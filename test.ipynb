{
 "cells": [
  {
   "cell_type": "code",
   "execution_count": 1,
   "metadata": {},
   "outputs": [],
   "source": [
    "from wordle import Wordle\n",
    "new_game = Wordle()"
   ]
  },
  {
   "cell_type": "code",
   "execution_count": 2,
   "metadata": {},
   "outputs": [
    {
     "name": "stdout",
     "output_type": "stream",
     "text": [
      "tares\n",
      "[0, 1, 0, 1, 0]\n"
     ]
    }
   ],
   "source": [
    "guess = new_game.pick_word()\n",
    "results = new_game.guess_word(guess)\n",
    "print(guess)\n",
    "print(results)"
   ]
  },
  {
   "cell_type": "code",
   "execution_count": 4,
   "metadata": {},
   "outputs": [
    {
     "name": "stdout",
     "output_type": "stream",
     "text": [
      "laden\n",
      "[2, 1, 0, 1, 0]\n"
     ]
    }
   ],
   "source": [
    "new_game.narrow_search(guess, results)\n",
    "guess = new_game.pick_word()\n",
    "results = new_game.guess_word(guess)\n",
    "print(guess)\n",
    "print(results)"
   ]
  },
  {
   "cell_type": "code",
   "execution_count": 5,
   "metadata": {},
   "outputs": [
    {
     "name": "stdout",
     "output_type": "stream",
     "text": [
      "lacey\n",
      "[2, 1, 0, 1, 0]\n"
     ]
    }
   ],
   "source": [
    "new_game.narrow_search(guess, results)\n",
    "guess = new_game.pick_word()\n",
    "results = new_game.guess_word(guess)\n",
    "print(guess)\n",
    "print(results)"
   ]
  },
  {
   "cell_type": "code",
   "execution_count": 6,
   "metadata": {},
   "outputs": [
    {
     "name": "stdout",
     "output_type": "stream",
     "text": [
      "label\n",
      "[2, 1, 0, 1, 0]\n"
     ]
    }
   ],
   "source": [
    "new_game.narrow_search(guess, results)\n",
    "guess = new_game.pick_word()\n",
    "results = new_game.guess_word(guess)\n",
    "print(guess)\n",
    "print(results)"
   ]
  },
  {
   "cell_type": "code",
   "execution_count": 7,
   "metadata": {},
   "outputs": [
    {
     "name": "stdout",
     "output_type": "stream",
     "text": [
      "\n",
      "None\n"
     ]
    }
   ],
   "source": [
    "new_game.narrow_search(guess, results)\n",
    "guess = new_game.pick_word()\n",
    "results = new_game.guess_word(guess)\n",
    "print(guess)\n",
    "print(results)"
   ]
  }
 ],
 "metadata": {
  "interpreter": {
   "hash": "ffb462e01f6e3d22412e7b9806f547c1343d6014f3d5b26a5393cbd5bd5924d2"
  },
  "kernelspec": {
   "display_name": "Python 3.9.9 64-bit (windows store)",
   "language": "python",
   "name": "python3"
  },
  "language_info": {
   "codemirror_mode": {
    "name": "ipython",
    "version": 3
   },
   "file_extension": ".py",
   "mimetype": "text/x-python",
   "name": "python",
   "nbconvert_exporter": "python",
   "pygments_lexer": "ipython3",
   "version": "3.9.10"
  },
  "orig_nbformat": 4
 },
 "nbformat": 4,
 "nbformat_minor": 2
}
