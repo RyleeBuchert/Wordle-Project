{
 "cells": [
  {
   "cell_type": "code",
   "execution_count": null,
   "metadata": {},
   "outputs": [],
   "source": [
    "from wordle import Wordle\n",
    "new_game = Wordle()"
   ]
  },
  {
   "cell_type": "code",
   "execution_count": null,
   "metadata": {},
   "outputs": [],
   "source": [
    "guess1 = new_game.pick_word()\n",
    "results1 = new_game.guess_word(guess1)\n",
    "print(guess1)\n",
    "print(results1)"
   ]
  },
  {
   "cell_type": "code",
   "execution_count": null,
   "metadata": {},
   "outputs": [],
   "source": [
    "new_game.narrow_search(guess1, results1)\n",
    "guess2 = new_game.pick_word()\n",
    "results2 = new_game.guess_word(guess2)\n",
    "print(guess2)\n",
    "print(results2)"
   ]
  },
  {
   "cell_type": "code",
   "execution_count": null,
   "metadata": {},
   "outputs": [],
   "source": [
    "new_game.narrow_search(guess2, results2)\n",
    "guess3 = new_game.pick_word()\n",
    "results3 = new_game.guess_word(guess3)\n",
    "print(guess3)\n",
    "print(results3)"
   ]
  },
  {
   "cell_type": "code",
   "execution_count": null,
   "metadata": {},
   "outputs": [],
   "source": [
    "new_game.narrow_search(guess3, results3)\n",
    "guess4 = new_game.pick_word()\n",
    "results4 = new_game.guess_word(guess4)\n",
    "print(guess4)\n",
    "print(results4)"
   ]
  },
  {
   "cell_type": "code",
   "execution_count": null,
   "metadata": {},
   "outputs": [],
   "source": [
    "new_game.narrow_search(guess4, results4)\n",
    "guess5 = new_game.pick_word()\n",
    "results5 = new_game.guess_word(guess5)\n",
    "print(guess5)\n",
    "print(results5)"
   ]
  },
  {
   "cell_type": "code",
   "execution_count": null,
   "metadata": {},
   "outputs": [],
   "source": [
    "new_game.narrow_search(guess5, results5)\n",
    "guess6 = new_game.pick_word()\n",
    "results6 = new_game.guess_word(guess6)\n",
    "print(guess6)\n",
    "print(results6)"
   ]
  }
 ],
 "metadata": {
  "interpreter": {
   "hash": "ffb462e01f6e3d22412e7b9806f547c1343d6014f3d5b26a5393cbd5bd5924d2"
  },
  "kernelspec": {
   "display_name": "Python 3.9.9 64-bit (windows store)",
   "language": "python",
   "name": "python3"
  },
  "language_info": {
   "codemirror_mode": {
    "name": "ipython",
    "version": 3
   },
   "file_extension": ".py",
   "mimetype": "text/x-python",
   "name": "python",
   "nbconvert_exporter": "python",
   "pygments_lexer": "ipython3",
   "version": "3.9.10"
  },
  "orig_nbformat": 4
 },
 "nbformat": 4,
 "nbformat_minor": 2
}
